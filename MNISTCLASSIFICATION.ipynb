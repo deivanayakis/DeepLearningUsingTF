{
  "cells": [
    {
      "cell_type": "markdown",
      "metadata": {
        "id": "view-in-github",
        "colab_type": "text"
      },
      "source": [
        "<a href=\"https://colab.research.google.com/github/deivanayakis/DeepLearningUsingTF/blob/main/MNISTCLASSIFICATION.ipynb\" target=\"_parent\"><img src=\"https://colab.research.google.com/assets/colab-badge.svg\" alt=\"Open In Colab\"/></a>"
      ]
    },
    {
      "cell_type": "code",
      "execution_count": 2,
      "metadata": {
        "id": "T7CgDgMRv413"
      },
      "outputs": [],
      "source": [
        "import numpy as np\n",
        "import pandas as pd\n",
        "import tensorflow as tf\n",
        "from tensorflow import keras\n",
        "from tensorflow.keras.models import Sequential\n",
        "from tensorflow.keras.layers import Dense,Conv2D,MaxPooling2D, Flatten, Dropout"
      ]
    },
    {
      "cell_type": "code",
      "execution_count": 3,
      "metadata": {
        "colab": {
          "base_uri": "https://localhost:8080/"
        },
        "id": "URc7Kysx0riY",
        "outputId": "a535b0c1-8d78-4602-9644-0148fa3f2b88"
      },
      "outputs": [
        {
          "output_type": "stream",
          "name": "stdout",
          "text": [
            "Downloading data from https://storage.googleapis.com/tensorflow/tf-keras-datasets/mnist.npz\n",
            "11490434/11490434 [==============================] - 0s 0us/step\n"
          ]
        }
      ],
      "source": [
        "(X_train, y_train), (X_test, y_test) = tf.keras.datasets.mnist.load_data()"
      ]
    },
    {
      "cell_type": "code",
      "execution_count": 4,
      "metadata": {
        "id": "MsCiQ7UB02so"
      },
      "outputs": [],
      "source": [
        "X_train = X_train.reshape(-1, 28, 28, 1)\n",
        "X_test = X_test.reshape(-1, 28, 28, 1)"
      ]
    },
    {
      "cell_type": "code",
      "execution_count": 5,
      "metadata": {
        "id": "MY0ts4RF2b1x"
      },
      "outputs": [],
      "source": [
        "X_train = X_train.astype('float32') / 255.0  # Normalize pixel values to [0, 1]\n",
        "X_test = X_test.astype('float32') / 255.0"
      ]
    },
    {
      "cell_type": "code",
      "execution_count": 6,
      "metadata": {
        "id": "Tk4WNBcqe3FD"
      },
      "outputs": [],
      "source": [
        "y_train = tf.keras.utils.to_categorical(y_train, num_classes=10)\n",
        "y_test = tf.keras.utils.to_categorical(y_test, num_classes=10)"
      ]
    },
    {
      "cell_type": "code",
      "execution_count": 7,
      "metadata": {
        "id": "pnX75VMZf8QH"
      },
      "outputs": [],
      "source": [
        "model = Sequential()"
      ]
    },
    {
      "cell_type": "code",
      "execution_count": 8,
      "metadata": {
        "id": "cZ4ZxezIf98j"
      },
      "outputs": [],
      "source": [
        "model.add(Conv2D(32, kernel_size=(3, 3), activation='relu', input_shape=(28, 28, 1)))\n",
        "model.add(MaxPooling2D(pool_size=(2, 2)))\n",
        "model.add(Conv2D(64, kernel_size=(3, 3), activation='relu'))\n",
        "model.add(MaxPooling2D(pool_size=(2, 2)))"
      ]
    },
    {
      "cell_type": "code",
      "execution_count": 9,
      "metadata": {
        "id": "ekqW7SJshQjA"
      },
      "outputs": [],
      "source": [
        "model.add(Flatten())"
      ]
    },
    {
      "cell_type": "code",
      "execution_count": 10,
      "metadata": {
        "id": "SoHlLSzghRLc"
      },
      "outputs": [],
      "source": [
        "model.add(Dense(128, activation='relu'))\n",
        "model.add(Dropout(0.2))\n",
        "model.add(Dense(10, activation='softmax'))"
      ]
    },
    {
      "cell_type": "code",
      "execution_count": 11,
      "metadata": {
        "id": "0TGIp5d6hYIh"
      },
      "outputs": [],
      "source": [
        "model.compile(optimizer='adam', loss='categorical_crossentropy', metrics=['accuracy'])"
      ]
    },
    {
      "cell_type": "code",
      "execution_count": 12,
      "metadata": {
        "colab": {
          "base_uri": "https://localhost:8080/"
        },
        "id": "8kBmO76TgoBF",
        "outputId": "da4c4eed-5e4c-4636-a39e-fc6819e42419"
      },
      "outputs": [
        {
          "output_type": "stream",
          "name": "stdout",
          "text": [
            "Epoch 1/20\n",
            "938/938 [==============================] - 9s 5ms/step - loss: 0.1682 - accuracy: 0.9484\n",
            "Epoch 2/20\n",
            "938/938 [==============================] - 5s 5ms/step - loss: 0.0518 - accuracy: 0.9839\n",
            "Epoch 3/20\n",
            "938/938 [==============================] - 4s 4ms/step - loss: 0.0375 - accuracy: 0.9884\n",
            "Epoch 4/20\n",
            "938/938 [==============================] - 4s 4ms/step - loss: 0.0294 - accuracy: 0.9910\n",
            "Epoch 5/20\n",
            "938/938 [==============================] - 5s 5ms/step - loss: 0.0231 - accuracy: 0.9924\n",
            "Epoch 6/20\n",
            "938/938 [==============================] - 4s 4ms/step - loss: 0.0195 - accuracy: 0.9939\n",
            "Epoch 7/20\n",
            "938/938 [==============================] - 4s 5ms/step - loss: 0.0158 - accuracy: 0.9948\n",
            "Epoch 8/20\n",
            "938/938 [==============================] - 5s 5ms/step - loss: 0.0142 - accuracy: 0.9952\n",
            "Epoch 9/20\n",
            "938/938 [==============================] - 4s 4ms/step - loss: 0.0117 - accuracy: 0.9960\n",
            "Epoch 10/20\n",
            "938/938 [==============================] - 4s 5ms/step - loss: 0.0094 - accuracy: 0.9967\n",
            "Epoch 11/20\n",
            "938/938 [==============================] - 4s 5ms/step - loss: 0.0093 - accuracy: 0.9968\n",
            "Epoch 12/20\n",
            "938/938 [==============================] - 4s 4ms/step - loss: 0.0076 - accuracy: 0.9974\n",
            "Epoch 13/20\n",
            "938/938 [==============================] - 4s 5ms/step - loss: 0.0077 - accuracy: 0.9973\n",
            "Epoch 14/20\n",
            "938/938 [==============================] - 4s 5ms/step - loss: 0.0066 - accuracy: 0.9978\n",
            "Epoch 15/20\n",
            "938/938 [==============================] - 4s 4ms/step - loss: 0.0062 - accuracy: 0.9980\n",
            "Epoch 16/20\n",
            "938/938 [==============================] - 5s 5ms/step - loss: 0.0058 - accuracy: 0.9982\n",
            "Epoch 17/20\n",
            "938/938 [==============================] - 4s 5ms/step - loss: 0.0058 - accuracy: 0.9982\n",
            "Epoch 18/20\n",
            "938/938 [==============================] - 4s 4ms/step - loss: 0.0064 - accuracy: 0.9977\n",
            "Epoch 19/20\n",
            "938/938 [==============================] - 5s 5ms/step - loss: 0.0046 - accuracy: 0.9984\n",
            "Epoch 20/20\n",
            "938/938 [==============================] - 4s 4ms/step - loss: 0.0046 - accuracy: 0.9984\n"
          ]
        },
        {
          "output_type": "execute_result",
          "data": {
            "text/plain": [
              "<keras.src.callbacks.History at 0x7f3294350a00>"
            ]
          },
          "metadata": {},
          "execution_count": 12
        }
      ],
      "source": [
        "model.fit(X_train, y_train, epochs=20,batch_size=64)"
      ]
    },
    {
      "cell_type": "code",
      "execution_count": 13,
      "metadata": {
        "id": "nc1I8QD5hftj",
        "colab": {
          "base_uri": "https://localhost:8080/"
        },
        "outputId": "474ee5a5-de26-4c6e-bfcb-86cf199a5ceb"
      },
      "outputs": [
        {
          "output_type": "stream",
          "name": "stdout",
          "text": [
            "313/313 [==============================] - 1s 3ms/step - loss: 0.0300 - accuracy: 0.9942\n",
            "Test accuracy: 0.9941999912261963\n"
          ]
        }
      ],
      "source": [
        "test_loss, test_acc = model.evaluate(X_test, y_test)\n",
        "print('Test accuracy:', test_acc)"
      ]
    },
    {
      "cell_type": "code",
      "source": [
        "from PIL import Image\n",
        "img = Image.open('/content/7.jpg')\n",
        "img = img.resize((28, 28))\n",
        "img = img.convert('L')\n",
        "img_array = np.array(img)\n",
        "img_array = np.reshape(img_array, (1, 28, 28, 1))\n",
        "img_array = img_array.astype('float32') / 255.0"
      ],
      "metadata": {
        "id": "OEq4_brtoReS"
      },
      "execution_count": 23,
      "outputs": []
    },
    {
      "cell_type": "code",
      "source": [
        "pred = model.predict(img_array)\n",
        "predclass = np.argmax(pred)\n",
        "print(\"Predicted class:\", predclass)"
      ],
      "metadata": {
        "colab": {
          "base_uri": "https://localhost:8080/"
        },
        "id": "n_GgbQwXqa05",
        "outputId": "1ffc5d35-c42b-4cf5-c696-459310e6cdf2"
      },
      "execution_count": 24,
      "outputs": [
        {
          "output_type": "stream",
          "name": "stdout",
          "text": [
            "1/1 [==============================] - 0s 17ms/step\n",
            "Predicted class: 7\n"
          ]
        }
      ]
    }
  ],
  "metadata": {
    "colab": {
      "provenance": [],
      "gpuType": "T4",
      "authorship_tag": "ABX9TyNeaoW7/+AXmFdXxjmFAGLb",
      "include_colab_link": true
    },
    "kernelspec": {
      "display_name": "Python 3",
      "name": "python3"
    },
    "language_info": {
      "name": "python"
    },
    "accelerator": "GPU"
  },
  "nbformat": 4,
  "nbformat_minor": 0
}